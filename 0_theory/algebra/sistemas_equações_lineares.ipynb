{
 "cells": [
  {
   "cell_type": "markdown",
   "metadata": {},
   "source": [
    "## Sistemas de equações lineares\n",
    "\n",
    "### Sistema de equações 1\n",
    "\n",
    "- $x + y = 10$\n",
    "- $x + 2y = 12$\n",
    "\n",
    "Onde x são maçãs e y são bananas.\n",
    "\n",
    "**Solução**:\n",
    "- tem-se que $x = 10 - y$\n",
    "- Logo $(10 - y) + 2y = 12$\n",
    "- Resolvendo a equação acima:\n",
    "    - $10 + y = 12$\n",
    "    - `$y = 2$`\n",
    "- Então, `$x = 10 - 2 = 8$`\n",
    "\n",
    "Logo os preços são `maça = 8` e `banana = 2`\n",
    "\n",
    "### Sistema de equações 2\n",
    "\n",
    "- $x + y = 10$\n",
    "- $2x + 2y = 20$\n",
    "\n",
    "Onde x são maçãs e y são bananas.\n",
    "\n",
    "**Solução**:\n",
    "- tem-se que $x = 10 - y$\n",
    "- Logo $2(10 - y) + 2y = 20$\n",
    "- Resolvendo a equação acima:\n",
    "    - $20 - 2y + 2y = 20$\n",
    "    - `$20 = 20$`\n",
    "- Logo, $x$ e $y$ podem assumir qualquer valor, desde que $x + y = 10$\n",
    "\n",
    "### Sistema de equações 3\n",
    "\n",
    "- $x + y = 10$\n",
    "- $2x + 2y = 24$\n",
    "\n",
    "Onde x são maçãs e y são bananas.\n",
    "\n",
    "**Solução**:\n",
    "- tem-se que $x = 10 - y$\n",
    "- Logo $2(10 - y) + 2y = 24$\n",
    "- Resolvendo a equação acima:\n",
    "    - $20 - 2y + 2y = 24$\n",
    "    - `$20 = 24$`\n",
    "- Logo, $x$ e $y$ não podem assumir qualquer valor, pois $20 \\neq 24$\n"
   ]
  },
  {
   "cell_type": "markdown",
   "metadata": {},
   "source": []
  },
  {
   "cell_type": "markdown",
   "metadata": {},
   "source": [
    "## Matrizes\n",
    "\n",
    "### Matriz Identidade\n",
    "\n",
    "- $I = \\begin{bmatrix} 1 & 0 \\\\ 0 & 1 \\end{bmatrix}$\n",
    "\n",
    "### Matrizes Singulares\n",
    "\n",
    "- $A = \\begin{bmatrix} 1 & 2 \\\\ 2 & 4 \\end{bmatrix}$\n",
    "\n",
    "- Matriz singular é aquela que não possui inversa.\n",
    "- Matriz singular representa um sistema de equações lineares que não possui solução.\n",
    "- Para descobrir se uma matriz é singular, basta calcular o determinante da matriz. \n",
    "- Se o determinante for igual a zero, a matriz é singular.\n",
    "\n",
    "### Cálculo do determinante\n",
    "\n",
    "- $A = \\begin{bmatrix} a & b \\\\ c & d \\end{bmatrix}$\n",
    "\n",
    "- $det(A) = ad - bc$"
   ]
  },
  {
   "cell_type": "code",
   "execution_count": 2,
   "metadata": {},
   "outputs": [
    {
     "name": "stdout",
     "output_type": "stream",
     "text": [
      "5.000000000000001\n"
     ]
    },
    {
     "data": {
      "text/plain": [
       "array([ 3.2, -0.8,  2.8])"
      ]
     },
     "execution_count": 2,
     "metadata": {},
     "output_type": "execute_result"
    }
   ],
   "source": [
    "import numpy as np\n",
    "\n",
    "A = np.array([\n",
    "    [1, 2, 3], \n",
    "    [1, 1, 2],\n",
    "    [4, 1, 0]]\n",
    ")\n",
    "\n",
    "B = np.array([10, 8, 12])\n",
    "\n",
    "# Calculo de determinante\n",
    "det_A = np.linalg.det(A)\n",
    "\n",
    "print(det_A)\n",
    "\n",
    "np.linalg.solve(A, B)"
   ]
  },
  {
   "cell_type": "markdown",
   "metadata": {},
   "source": [
    "# RANK of a matrix\n",
    "\n"
   ]
  }
 ],
 "metadata": {
  "kernelspec": {
   "display_name": "venv",
   "language": "python",
   "name": "python3"
  },
  "language_info": {
   "codemirror_mode": {
    "name": "ipython",
    "version": 3
   },
   "file_extension": ".py",
   "mimetype": "text/x-python",
   "name": "python",
   "nbconvert_exporter": "python",
   "pygments_lexer": "ipython3",
   "version": "3.10.12"
  }
 },
 "nbformat": 4,
 "nbformat_minor": 2
}
