{
 "cells": [
  {
   "cell_type": "markdown",
   "metadata": {},
   "source": [
    "# Estatística e Probabilidade\n",
    "\n",
    "\n",
    "## Probabilidade\n",
    "\n",
    "### Probabilidade de um evento\n",
    "\n",
    "É a razão entre eventos específicos e eventos possíveis.\n",
    "\n",
    "### Probabilidade de um evento complementar\n",
    "\n",
    "- P(A') = 1 - P(A)\n",
    "\n",
    "### Soma de probabilidades em eventos mutuamente exclusivos\n",
    "\n",
    "- P(A ou B) = P(A) + P(B)\n",
    "\n",
    "Exemplos:\n",
    "\n",
    "- Probabilidade de tirar um número par ou ímpar em um dado de 6 faces: 3/6 + 3/6 = 1\n",
    "\n",
    "\n",
    "### Soma de probabilidades em eventos não mutuamente exclusivos\n",
    "\n",
    "- P(A ou B) = P(A) + P(B) - P(A e B)\n",
    "\n",
    "\n",
    "### Eventos independentes\n",
    "\n",
    "- P(A e B) = P(A) * P(B)\n",
    "\n",
    "Exemplos:\n",
    "\n",
    "- Probabilidade de tirar um número par e um número ímpar em um dado de 6 faces: 3/6 * 3/6 = 1/4\n",
    "\n",
    "\n",
    "### Probabilidade Condicional\n",
    "\n",
    "- P(A|B) = P(A e B) / P(B)\n",
    "\n",
    "### Teorema de Bayes\n",
    "\n",
    "- P(A|B) = P(B|A) * P(A) / P(B)\n",
    "\n",
    "\n",
    "- P(spam) = 0.2\n",
    "- P(not spam) = 0.8\n",
    "- P(lottery|spam) = 0.7\n",
    "- P(lottery|not spam) = 0.125\n",
    "\n",
    "- P(spam|lottery) = P(lottery|spam) * P(spam) / P(lottery)\n"
   ]
  },
  {
   "cell_type": "markdown",
   "metadata": {},
   "source": [
    "- 100 Kids\n",
    "\n",
    "- P(Soccer) = 0.4\n",
    "- P(not Soccer) = 0.6\n",
    "- P(Shoes | Soccer) = 0.8\n",
    "- P(Shoes | not Soccer) = 0.5\n",
    "\n",
    "\n",
    "- P(Shoes) = P(Shoes | Soccer) * P(Soccer) + P(Shoes | not Soccer) * P(not Soccer)\n",
    "\n",
    "- \n",
    "\n",
    "\n"
   ]
  }
 ],
 "metadata": {
  "language_info": {
   "name": "python"
  }
 },
 "nbformat": 4,
 "nbformat_minor": 2
}
