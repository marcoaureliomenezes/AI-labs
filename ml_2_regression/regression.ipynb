{
 "cells": [
  {
   "cell_type": "code",
   "execution_count": 98,
   "metadata": {},
   "outputs": [],
   "source": [
    "import pandas as pd\n",
    "import numpy as np"
   ]
  },
  {
   "cell_type": "code",
   "execution_count": 99,
   "metadata": {},
   "outputs": [
    {
     "data": {
      "text/html": [
       "<div>\n",
       "<style scoped>\n",
       "    .dataframe tbody tr th:only-of-type {\n",
       "        vertical-align: middle;\n",
       "    }\n",
       "\n",
       "    .dataframe tbody tr th {\n",
       "        vertical-align: top;\n",
       "    }\n",
       "\n",
       "    .dataframe thead th {\n",
       "        text-align: right;\n",
       "    }\n",
       "</style>\n",
       "<table border=\"1\" class=\"dataframe\">\n",
       "  <thead>\n",
       "    <tr style=\"text-align: right;\">\n",
       "      <th></th>\n",
       "      <th>ident</th>\n",
       "      <th>listing</th>\n",
       "    </tr>\n",
       "  </thead>\n",
       "  <tbody>\n",
       "    <tr>\n",
       "      <th>0</th>\n",
       "      <td>{'customerID': '775564-BOJSMVON', 'source': 'W...</td>\n",
       "      <td>{'types': {'unit': 'Outros', 'usage': 'Residen...</td>\n",
       "    </tr>\n",
       "    <tr>\n",
       "      <th>1</th>\n",
       "      <td>{'customerID': '660895-AUENKNYY', 'source': 'W...</td>\n",
       "      <td>{'types': {'unit': 'Apartamento', 'usage': 'Re...</td>\n",
       "    </tr>\n",
       "    <tr>\n",
       "      <th>2</th>\n",
       "      <td>{'customerID': '751522-JESYFEQL', 'source': 'W...</td>\n",
       "      <td>{'types': {'unit': 'Outros', 'usage': 'Residen...</td>\n",
       "    </tr>\n",
       "    <tr>\n",
       "      <th>3</th>\n",
       "      <td>{'customerID': '714052-GAAEWYKS', 'source': 'W...</td>\n",
       "      <td>{'types': {'unit': 'Outros', 'usage': 'Comerci...</td>\n",
       "    </tr>\n",
       "    <tr>\n",
       "      <th>4</th>\n",
       "      <td>{'customerID': '568886-ZIBFOMCC', 'source': 'W...</td>\n",
       "      <td>{'types': {'unit': 'Apartamento', 'usage': 'Re...</td>\n",
       "    </tr>\n",
       "  </tbody>\n",
       "</table>\n",
       "</div>"
      ],
      "text/plain": [
       "                                               ident  \\\n",
       "0  {'customerID': '775564-BOJSMVON', 'source': 'W...   \n",
       "1  {'customerID': '660895-AUENKNYY', 'source': 'W...   \n",
       "2  {'customerID': '751522-JESYFEQL', 'source': 'W...   \n",
       "3  {'customerID': '714052-GAAEWYKS', 'source': 'W...   \n",
       "4  {'customerID': '568886-ZIBFOMCC', 'source': 'W...   \n",
       "\n",
       "                                             listing  \n",
       "0  {'types': {'unit': 'Outros', 'usage': 'Residen...  \n",
       "1  {'types': {'unit': 'Apartamento', 'usage': 'Re...  \n",
       "2  {'types': {'unit': 'Outros', 'usage': 'Residen...  \n",
       "3  {'types': {'unit': 'Outros', 'usage': 'Comerci...  \n",
       "4  {'types': {'unit': 'Apartamento', 'usage': 'Re...  "
      ]
     },
     "execution_count": 99,
     "metadata": {},
     "output_type": "execute_result"
    }
   ],
   "source": [
    "df_raw_data = pd.read_json('../0_datasets/regression/imoveis.json', orient='columns')\n",
    "df_raw_data.head()"
   ]
  },
  {
   "cell_type": "code",
   "execution_count": 100,
   "metadata": {},
   "outputs": [
    {
     "name": "stdout",
     "output_type": "stream",
     "text": [
      "<class 'pandas.core.frame.DataFrame'>\n",
      "RangeIndex: 69588 entries, 0 to 69587\n",
      "Data columns (total 21 columns):\n",
      " #   Column                    Non-Null Count  Dtype  \n",
      "---  ------                    --------------  -----  \n",
      " 0   customerID                69588 non-null  object \n",
      " 1   source                    69588 non-null  object \n",
      " 2   types_unit                69588 non-null  object \n",
      " 3   types_usage               69588 non-null  object \n",
      " 4   address_city              69588 non-null  object \n",
      " 5   address_location_lon      69449 non-null  float64\n",
      " 6   address_location_lat      69449 non-null  float64\n",
      " 7   address_zone              69588 non-null  object \n",
      " 8   address_neighborhood      69588 non-null  object \n",
      " 9   prices_price              69588 non-null  float64\n",
      " 10  prices_tax_iptu           60863 non-null  float64\n",
      " 11  prices_tax_condo          63527 non-null  float64\n",
      " 12  features_bedrooms         69588 non-null  int64  \n",
      " 13  features_bathrooms        69588 non-null  int64  \n",
      " 14  features_suites           69588 non-null  int64  \n",
      " 15  features_parkingSpaces    69588 non-null  int64  \n",
      " 16  features_usableAreas      69588 non-null  int64  \n",
      " 17  features_totalAreas       69588 non-null  int64  \n",
      " 18  features_floors           69588 non-null  int64  \n",
      " 19  features_unitsOnTheFloor  69588 non-null  int64  \n",
      " 20  features_unitFloor        69588 non-null  int64  \n",
      "dtypes: float64(5), int64(9), object(7)\n",
      "memory usage: 11.1+ MB\n"
     ]
    }
   ],
   "source": [
    "dados_lista = pd.json_normalize(df_raw_data.ident)\n",
    "dados_lista_2 = pd.json_normalize(df_raw_data.listing, sep='_')\n",
    "df_data = pd.concat([dados_lista, dados_lista_2], axis=1)\n",
    "\n",
    "# FILTRO\n",
    "filtro_residencial = (df_data['types_usage'] == 'Residencial') & (df_data['address_city'] == 'Rio de Janeiro')\n",
    "df_data_residencial = df_data[filtro_residencial]\n",
    "\n",
    "# LIMPEZA\n",
    "df_data_residencial.reset_index(drop=True, inplace=True)\n",
    "\n",
    "# FIXING DATATYPES\n",
    "df_data_residencial = df_data_residencial.astype({\n",
    "    \"prices_price\": \"float64\",\n",
    "    \"prices_tax_iptu\": \"float64\",\n",
    "    \"prices_tax_condo\": \"float64\",\n",
    "    \"features_usableAreas\": \"int64\",\n",
    "    \"features_totalAreas\": \"int64\"\n",
    "})\n",
    "\n",
    "df_data_residencial.info()\n"
   ]
  },
  {
   "cell_type": "code",
   "execution_count": 101,
   "metadata": {},
   "outputs": [],
   "source": [
    "df_data_residencial['address_zone'] = df_data_residencial['address_zone'].replace('', np.nan)"
   ]
  },
  {
   "cell_type": "code",
   "execution_count": 102,
   "metadata": {},
   "outputs": [
    {
     "data": {
      "text/plain": [
       "149"
      ]
     },
     "execution_count": 102,
     "metadata": {},
     "output_type": "execute_result"
    }
   ],
   "source": [
    "df_data_residencial.address_zone.isnull().sum()"
   ]
  },
  {
   "cell_type": "code",
   "execution_count": 103,
   "metadata": {},
   "outputs": [
    {
     "name": "stderr",
     "output_type": "stream",
     "text": [
      "/tmp/ipykernel_325500/1131446016.py:8: FutureWarning: A value is trying to be set on a copy of a DataFrame or Series through chained assignment using an inplace method.\n",
      "The behavior will change in pandas 3.0. This inplace method will never work because the intermediate object on which we are setting values always behaves as a copy.\n",
      "\n",
      "For example, when doing 'df[col].method(value, inplace=True)', try using 'df.method({col: value}, inplace=True)' or df[col] = df[col].method(value) instead, to perform the operation inplace on the original object.\n",
      "\n",
      "\n",
      "  df_data_residencial.prices_tax_iptu.fillna(0, inplace=True)\n",
      "/tmp/ipykernel_325500/1131446016.py:9: FutureWarning: A value is trying to be set on a copy of a DataFrame or Series through chained assignment using an inplace method.\n",
      "The behavior will change in pandas 3.0. This inplace method will never work because the intermediate object on which we are setting values always behaves as a copy.\n",
      "\n",
      "For example, when doing 'df[col].method(value, inplace=True)', try using 'df.method({col: value}, inplace=True)' or df[col] = df[col].method(value) instead, to perform the operation inplace on the original object.\n",
      "\n",
      "\n",
      "  df_data_residencial.prices_tax_condo.fillna(0, inplace=True)\n"
     ]
    }
   ],
   "source": [
    "dict_zones = df_data_residencial[~df_data_residencial['address_zone'].isna()].drop_duplicates(subset=['address_neighborhood', 'address_zone']).to_dict('records')\n",
    "dict_zones = {item['address_neighborhood']: item['address_zone'] for item in dict_zones}\n",
    "\n",
    "for bairro, zona in dict_zones.items():\n",
    "    df_data_residencial.loc[(df_data_residencial['address_neighborhood'] == bairro) & (df_data_residencial['address_zone'].isna()), 'address_zone'] = zona\n",
    "df_data_residencial.address_zone.isnull().sum()\n",
    "\n",
    "df_data_residencial.prices_tax_iptu.fillna(0, inplace=True)\n",
    "df_data_residencial.prices_tax_condo.fillna(0, inplace=True)\n",
    "\n",
    "df_data_residencial.drop(['customerID', 'source', 'types_usage', 'address_city', 'address_location_lon', 'address_location_lat', 'address_neighborhood'], inplace=True, axis=1)\n",
    "\n",
    "columns_remap = {\n",
    "    \"types_unit\": 'unit', 'address_zone': 'zone', 'prices_price': 'price', \n",
    "    'prices_tax_condo': 'tax_condo', 'prices_tax_iptu': 'tax_iptu',  'features_bedrooms': 'bedrooms', \n",
    "    'features_bathrooms': 'bathrooms', 'features_suites': 'suites', 'features_parkingSpaces': 'parkingSpaces',\n",
    "    'features_usableAreas': 'usableAreas', 'features_totalAreas': 'totalAreas', 'features_floors': 'floors',\n",
    "    'features_unitsOnTheFloor': 'unitsOnTheFloor', 'features_unitFloor': 'unitFloor'\n",
    "}\n",
    "\n",
    "df_data_residencial.rename(columns=columns_remap, inplace=True)"
   ]
  },
  {
   "cell_type": "code",
   "execution_count": 104,
   "metadata": {},
   "outputs": [
    {
     "name": "stdout",
     "output_type": "stream",
     "text": [
      "<class 'pandas.core.frame.DataFrame'>\n",
      "RangeIndex: 69588 entries, 0 to 69587\n",
      "Data columns (total 14 columns):\n",
      " #   Column           Non-Null Count  Dtype  \n",
      "---  ------           --------------  -----  \n",
      " 0   unit             69588 non-null  object \n",
      " 1   zone             69588 non-null  object \n",
      " 2   price            69588 non-null  float64\n",
      " 3   tax_iptu         69588 non-null  float64\n",
      " 4   tax_condo        69588 non-null  float64\n",
      " 5   bedrooms         69588 non-null  int64  \n",
      " 6   bathrooms        69588 non-null  int64  \n",
      " 7   suites           69588 non-null  int64  \n",
      " 8   parkingSpaces    69588 non-null  int64  \n",
      " 9   usableAreas      69588 non-null  int64  \n",
      " 10  totalAreas       69588 non-null  int64  \n",
      " 11  floors           69588 non-null  int64  \n",
      " 12  unitsOnTheFloor  69588 non-null  int64  \n",
      " 13  unitFloor        69588 non-null  int64  \n",
      "dtypes: float64(3), int64(9), object(2)\n",
      "memory usage: 7.4+ MB\n"
     ]
    }
   ],
   "source": [
    "df_data_residencial.info()"
   ]
  },
  {
   "cell_type": "code",
   "execution_count": 105,
   "metadata": {},
   "outputs": [
    {
     "data": {
      "text/html": [
       "<div>\n",
       "<style scoped>\n",
       "    .dataframe tbody tr th:only-of-type {\n",
       "        vertical-align: middle;\n",
       "    }\n",
       "\n",
       "    .dataframe tbody tr th {\n",
       "        vertical-align: top;\n",
       "    }\n",
       "\n",
       "    .dataframe thead th {\n",
       "        text-align: right;\n",
       "    }\n",
       "</style>\n",
       "<table border=\"1\" class=\"dataframe\">\n",
       "  <thead>\n",
       "    <tr style=\"text-align: right;\">\n",
       "      <th></th>\n",
       "      <th>unit</th>\n",
       "      <th>zone</th>\n",
       "      <th>price</th>\n",
       "      <th>tax_iptu</th>\n",
       "      <th>tax_condo</th>\n",
       "      <th>bedrooms</th>\n",
       "      <th>bathrooms</th>\n",
       "      <th>suites</th>\n",
       "      <th>parkingSpaces</th>\n",
       "      <th>usableAreas</th>\n",
       "      <th>totalAreas</th>\n",
       "      <th>floors</th>\n",
       "      <th>unitsOnTheFloor</th>\n",
       "      <th>unitFloor</th>\n",
       "    </tr>\n",
       "  </thead>\n",
       "  <tbody>\n",
       "    <tr>\n",
       "      <th>0</th>\n",
       "      <td>Outros</td>\n",
       "      <td>Zona Oeste</td>\n",
       "      <td>45000.0</td>\n",
       "      <td>0.0</td>\n",
       "      <td>150.0</td>\n",
       "      <td>0</td>\n",
       "      <td>0</td>\n",
       "      <td>0</td>\n",
       "      <td>1</td>\n",
       "      <td>62</td>\n",
       "      <td>62</td>\n",
       "      <td>0</td>\n",
       "      <td>0</td>\n",
       "      <td>0</td>\n",
       "    </tr>\n",
       "    <tr>\n",
       "      <th>1</th>\n",
       "      <td>Apartamento</td>\n",
       "      <td>Zona Oeste</td>\n",
       "      <td>45000.0</td>\n",
       "      <td>0.0</td>\n",
       "      <td>120.0</td>\n",
       "      <td>2</td>\n",
       "      <td>1</td>\n",
       "      <td>0</td>\n",
       "      <td>1</td>\n",
       "      <td>44</td>\n",
       "      <td>0</td>\n",
       "      <td>0</td>\n",
       "      <td>0</td>\n",
       "      <td>0</td>\n",
       "    </tr>\n",
       "    <tr>\n",
       "      <th>2</th>\n",
       "      <td>Outros</td>\n",
       "      <td>Zona Oeste</td>\n",
       "      <td>50000.0</td>\n",
       "      <td>0.0</td>\n",
       "      <td>100.0</td>\n",
       "      <td>0</td>\n",
       "      <td>0</td>\n",
       "      <td>0</td>\n",
       "      <td>0</td>\n",
       "      <td>132</td>\n",
       "      <td>132</td>\n",
       "      <td>0</td>\n",
       "      <td>0</td>\n",
       "      <td>0</td>\n",
       "    </tr>\n",
       "    <tr>\n",
       "      <th>3</th>\n",
       "      <td>Apartamento</td>\n",
       "      <td>Zona Oeste</td>\n",
       "      <td>50000.0</td>\n",
       "      <td>120.0</td>\n",
       "      <td>400.0</td>\n",
       "      <td>3</td>\n",
       "      <td>2</td>\n",
       "      <td>1</td>\n",
       "      <td>1</td>\n",
       "      <td>60</td>\n",
       "      <td>0</td>\n",
       "      <td>3</td>\n",
       "      <td>4</td>\n",
       "      <td>2</td>\n",
       "    </tr>\n",
       "    <tr>\n",
       "      <th>4</th>\n",
       "      <td>Outros</td>\n",
       "      <td>Zona Oeste</td>\n",
       "      <td>50000.0</td>\n",
       "      <td>0.0</td>\n",
       "      <td>0.0</td>\n",
       "      <td>0</td>\n",
       "      <td>0</td>\n",
       "      <td>0</td>\n",
       "      <td>0</td>\n",
       "      <td>200</td>\n",
       "      <td>200</td>\n",
       "      <td>0</td>\n",
       "      <td>0</td>\n",
       "      <td>0</td>\n",
       "    </tr>\n",
       "  </tbody>\n",
       "</table>\n",
       "</div>"
      ],
      "text/plain": [
       "          unit        zone    price  tax_iptu  tax_condo  bedrooms  bathrooms  \\\n",
       "0       Outros  Zona Oeste  45000.0       0.0      150.0         0          0   \n",
       "1  Apartamento  Zona Oeste  45000.0       0.0      120.0         2          1   \n",
       "2       Outros  Zona Oeste  50000.0       0.0      100.0         0          0   \n",
       "3  Apartamento  Zona Oeste  50000.0     120.0      400.0         3          2   \n",
       "4       Outros  Zona Oeste  50000.0       0.0        0.0         0          0   \n",
       "\n",
       "   suites  parkingSpaces  usableAreas  totalAreas  floors  unitsOnTheFloor  \\\n",
       "0       0              1           62          62       0                0   \n",
       "1       0              1           44           0       0                0   \n",
       "2       0              0          132         132       0                0   \n",
       "3       1              1           60           0       3                4   \n",
       "4       0              0          200         200       0                0   \n",
       "\n",
       "   unitFloor  \n",
       "0          0  \n",
       "1          0  \n",
       "2          0  \n",
       "3          2  \n",
       "4          0  "
      ]
     },
     "execution_count": 105,
     "metadata": {},
     "output_type": "execute_result"
    }
   ],
   "source": [
    "\n",
    "df_data_residencial.head()"
   ]
  },
  {
   "cell_type": "code",
   "execution_count": 106,
   "metadata": {},
   "outputs": [
    {
     "ename": "ValueError",
     "evalue": "could not convert string to float: 'Outros'",
     "output_type": "error",
     "traceback": [
      "\u001b[0;31m---------------------------------------------------------------------------\u001b[0m",
      "\u001b[0;31mValueError\u001b[0m                                Traceback (most recent call last)",
      "Cell \u001b[0;32mIn[106], line 1\u001b[0m\n\u001b[0;32m----> 1\u001b[0m correlacao \u001b[38;5;241m=\u001b[39m \u001b[43mdf_data_residencial\u001b[49m\u001b[38;5;241;43m.\u001b[39;49m\u001b[43mcorr\u001b[49m\u001b[43m(\u001b[49m\u001b[43m)\u001b[49m\n\u001b[1;32m      2\u001b[0m correlacao\n",
      "File \u001b[0;32m~/workspace/learning/3_AI/venv/lib/python3.10/site-packages/pandas/core/frame.py:11022\u001b[0m, in \u001b[0;36mDataFrame.corr\u001b[0;34m(self, method, min_periods, numeric_only)\u001b[0m\n\u001b[1;32m  11020\u001b[0m cols \u001b[38;5;241m=\u001b[39m data\u001b[38;5;241m.\u001b[39mcolumns\n\u001b[1;32m  11021\u001b[0m idx \u001b[38;5;241m=\u001b[39m cols\u001b[38;5;241m.\u001b[39mcopy()\n\u001b[0;32m> 11022\u001b[0m mat \u001b[38;5;241m=\u001b[39m \u001b[43mdata\u001b[49m\u001b[38;5;241;43m.\u001b[39;49m\u001b[43mto_numpy\u001b[49m\u001b[43m(\u001b[49m\u001b[43mdtype\u001b[49m\u001b[38;5;241;43m=\u001b[39;49m\u001b[38;5;28;43mfloat\u001b[39;49m\u001b[43m,\u001b[49m\u001b[43m \u001b[49m\u001b[43mna_value\u001b[49m\u001b[38;5;241;43m=\u001b[39;49m\u001b[43mnp\u001b[49m\u001b[38;5;241;43m.\u001b[39;49m\u001b[43mnan\u001b[49m\u001b[43m,\u001b[49m\u001b[43m \u001b[49m\u001b[43mcopy\u001b[49m\u001b[38;5;241;43m=\u001b[39;49m\u001b[38;5;28;43;01mFalse\u001b[39;49;00m\u001b[43m)\u001b[49m\n\u001b[1;32m  11024\u001b[0m \u001b[38;5;28;01mif\u001b[39;00m method \u001b[38;5;241m==\u001b[39m \u001b[38;5;124m\"\u001b[39m\u001b[38;5;124mpearson\u001b[39m\u001b[38;5;124m\"\u001b[39m:\n\u001b[1;32m  11025\u001b[0m     correl \u001b[38;5;241m=\u001b[39m libalgos\u001b[38;5;241m.\u001b[39mnancorr(mat, minp\u001b[38;5;241m=\u001b[39mmin_periods)\n",
      "File \u001b[0;32m~/workspace/learning/3_AI/venv/lib/python3.10/site-packages/pandas/core/frame.py:1981\u001b[0m, in \u001b[0;36mDataFrame.to_numpy\u001b[0;34m(self, dtype, copy, na_value)\u001b[0m\n\u001b[1;32m   1979\u001b[0m \u001b[38;5;28;01mif\u001b[39;00m dtype \u001b[38;5;129;01mis\u001b[39;00m \u001b[38;5;129;01mnot\u001b[39;00m \u001b[38;5;28;01mNone\u001b[39;00m:\n\u001b[1;32m   1980\u001b[0m     dtype \u001b[38;5;241m=\u001b[39m np\u001b[38;5;241m.\u001b[39mdtype(dtype)\n\u001b[0;32m-> 1981\u001b[0m result \u001b[38;5;241m=\u001b[39m \u001b[38;5;28;43mself\u001b[39;49m\u001b[38;5;241;43m.\u001b[39;49m\u001b[43m_mgr\u001b[49m\u001b[38;5;241;43m.\u001b[39;49m\u001b[43mas_array\u001b[49m\u001b[43m(\u001b[49m\u001b[43mdtype\u001b[49m\u001b[38;5;241;43m=\u001b[39;49m\u001b[43mdtype\u001b[49m\u001b[43m,\u001b[49m\u001b[43m \u001b[49m\u001b[43mcopy\u001b[49m\u001b[38;5;241;43m=\u001b[39;49m\u001b[43mcopy\u001b[49m\u001b[43m,\u001b[49m\u001b[43m \u001b[49m\u001b[43mna_value\u001b[49m\u001b[38;5;241;43m=\u001b[39;49m\u001b[43mna_value\u001b[49m\u001b[43m)\u001b[49m\n\u001b[1;32m   1982\u001b[0m \u001b[38;5;28;01mif\u001b[39;00m result\u001b[38;5;241m.\u001b[39mdtype \u001b[38;5;129;01mis\u001b[39;00m \u001b[38;5;129;01mnot\u001b[39;00m dtype:\n\u001b[1;32m   1983\u001b[0m     result \u001b[38;5;241m=\u001b[39m np\u001b[38;5;241m.\u001b[39marray(result, dtype\u001b[38;5;241m=\u001b[39mdtype, copy\u001b[38;5;241m=\u001b[39m\u001b[38;5;28;01mFalse\u001b[39;00m)\n",
      "File \u001b[0;32m~/workspace/learning/3_AI/venv/lib/python3.10/site-packages/pandas/core/internals/managers.py:1693\u001b[0m, in \u001b[0;36mBlockManager.as_array\u001b[0;34m(self, dtype, copy, na_value)\u001b[0m\n\u001b[1;32m   1691\u001b[0m         arr\u001b[38;5;241m.\u001b[39mflags\u001b[38;5;241m.\u001b[39mwriteable \u001b[38;5;241m=\u001b[39m \u001b[38;5;28;01mFalse\u001b[39;00m\n\u001b[1;32m   1692\u001b[0m \u001b[38;5;28;01melse\u001b[39;00m:\n\u001b[0;32m-> 1693\u001b[0m     arr \u001b[38;5;241m=\u001b[39m \u001b[38;5;28;43mself\u001b[39;49m\u001b[38;5;241;43m.\u001b[39;49m\u001b[43m_interleave\u001b[49m\u001b[43m(\u001b[49m\u001b[43mdtype\u001b[49m\u001b[38;5;241;43m=\u001b[39;49m\u001b[43mdtype\u001b[49m\u001b[43m,\u001b[49m\u001b[43m \u001b[49m\u001b[43mna_value\u001b[49m\u001b[38;5;241;43m=\u001b[39;49m\u001b[43mna_value\u001b[49m\u001b[43m)\u001b[49m\n\u001b[1;32m   1694\u001b[0m     \u001b[38;5;66;03m# The underlying data was copied within _interleave, so no need\u001b[39;00m\n\u001b[1;32m   1695\u001b[0m     \u001b[38;5;66;03m# to further copy if copy=True or setting na_value\u001b[39;00m\n\u001b[1;32m   1697\u001b[0m \u001b[38;5;28;01mif\u001b[39;00m na_value \u001b[38;5;129;01mis\u001b[39;00m lib\u001b[38;5;241m.\u001b[39mno_default:\n",
      "File \u001b[0;32m~/workspace/learning/3_AI/venv/lib/python3.10/site-packages/pandas/core/internals/managers.py:1752\u001b[0m, in \u001b[0;36mBlockManager._interleave\u001b[0;34m(self, dtype, na_value)\u001b[0m\n\u001b[1;32m   1750\u001b[0m     \u001b[38;5;28;01melse\u001b[39;00m:\n\u001b[1;32m   1751\u001b[0m         arr \u001b[38;5;241m=\u001b[39m blk\u001b[38;5;241m.\u001b[39mget_values(dtype)\n\u001b[0;32m-> 1752\u001b[0m     \u001b[43mresult\u001b[49m\u001b[43m[\u001b[49m\u001b[43mrl\u001b[49m\u001b[38;5;241;43m.\u001b[39;49m\u001b[43mindexer\u001b[49m\u001b[43m]\u001b[49m \u001b[38;5;241m=\u001b[39m arr\n\u001b[1;32m   1753\u001b[0m     itemmask[rl\u001b[38;5;241m.\u001b[39mindexer] \u001b[38;5;241m=\u001b[39m \u001b[38;5;241m1\u001b[39m\n\u001b[1;32m   1755\u001b[0m \u001b[38;5;28;01mif\u001b[39;00m \u001b[38;5;129;01mnot\u001b[39;00m itemmask\u001b[38;5;241m.\u001b[39mall():\n",
      "\u001b[0;31mValueError\u001b[0m: could not convert string to float: 'Outros'"
     ]
    }
   ],
   "source": [
    "correlacao = df_data_residencial.corr()\n",
    "correlacao"
   ]
  },
  {
   "cell_type": "code",
   "execution_count": null,
   "metadata": {},
   "outputs": [],
   "source": []
  }
 ],
 "metadata": {
  "kernelspec": {
   "display_name": "venv",
   "language": "python",
   "name": "python3"
  },
  "language_info": {
   "codemirror_mode": {
    "name": "ipython",
    "version": 3
   },
   "file_extension": ".py",
   "mimetype": "text/x-python",
   "name": "python",
   "nbconvert_exporter": "python",
   "pygments_lexer": "ipython3",
   "version": "3.10.12"
  }
 },
 "nbformat": 4,
 "nbformat_minor": 2
}
