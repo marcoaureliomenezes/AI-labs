{
 "cells": [
  {
   "cell_type": "markdown",
   "id": "7d5db0d4",
   "metadata": {},
   "source": [
    "## Exemplo de Features e Labels"
   ]
  },
  {
   "cell_type": "code",
   "execution_count": 18,
   "id": "7c03b579",
   "metadata": {},
   "outputs": [],
   "source": [
    "from sklearn.svm import LinearSVC\n",
    "from sklearn.metrics import accuracy_score"
   ]
  },
  {
   "cell_type": "code",
   "execution_count": 19,
   "id": "4cf37ac8-be3d-4581-962d-34e0991a5a59",
   "metadata": {},
   "outputs": [],
   "source": [
    "\n",
    "# Cada elemento de features é um animal com 3 caracteristicas\n",
    "# A 1ª caracteristica é se o animal tem pelo longo, a 2ª se tem perna curta e a 3ª é se ele late.\n",
    "train_x  = [\n",
    "    [0, 1, 0], \n",
    "    [0, 1, 1],\n",
    "    [1, 1, 0],\n",
    "    [0, 1, 1],\n",
    "    [1, 0, 1],\n",
    "    [1, 1, 1]\n",
    "]\n",
    "# Cada elemento de labels é a classificação do animal correspondente em features.\n",
    "train_y = [1, 1, 1, 0, 0, 0]"
   ]
  },
  {
   "cell_type": "markdown",
   "id": "1cb2b4dd",
   "metadata": {},
   "source": [
    "### Estrutura básica de um modelo de Modelo de Machine Learning\n",
    "\n",
    "- Features: Variáveis de entrada do modelo\n",
    "- Labels: Variável de saída do modelo\n",
    "- Modelo: Função que mapeia as features para as labels\n",
    "- `Y = F(X)` ou `Labels = Modelo(Features)`"
   ]
  },
  {
   "cell_type": "code",
   "execution_count": 20,
   "id": "72b34993-5504-4cbb-8c9c-42083252e416",
   "metadata": {},
   "outputs": [
    {
     "name": "stdout",
     "output_type": "stream",
     "text": [
      "Taxa de acerto:  66.66666666666666 %\n"
     ]
    },
    {
     "name": "stderr",
     "output_type": "stream",
     "text": [
      "/home/dadaia/workspace/learning/3_AI/venv/lib/python3.10/site-packages/sklearn/svm/_classes.py:31: FutureWarning: The default value of `dual` will change from `True` to `'auto'` in 1.5. Set the value of `dual` explicitly to suppress the warning.\n",
      "  warnings.warn(\n"
     ]
    }
   ],
   "source": [
    "model = LinearSVC(dual=True)\n",
    "model.fit(train_x, train_y)\n",
    "\n",
    "test_x = [\n",
    "    [1, 1, 1],\n",
    "    [1, 1, 0],\n",
    "    [0, 1, 1]\n",
    "]\n",
    "test_y = [0, 1, 1]\n",
    "\n",
    "previsao = model.predict(test_x)\n",
    "\n",
    "# corretos = (previsao == test_labels).sum()\n",
    "# total = len(test_features)\n",
    "# taxa_de_acerto = corretos / total\n",
    "\n",
    "taxa_de_acerto = accuracy_score(test_y, previsao)\n",
    "print(\"Taxa de acerto: \", taxa_de_acerto * 100, \"%\")\n"
   ]
  },
  {
   "cell_type": "code",
   "execution_count": null,
   "id": "417bf951",
   "metadata": {},
   "outputs": [],
   "source": []
  }
 ],
 "metadata": {
  "kernelspec": {
   "display_name": "Python 3 (ipykernel)",
   "language": "python",
   "name": "python3"
  },
  "language_info": {
   "codemirror_mode": {
    "name": "ipython",
    "version": 3
   },
   "file_extension": ".py",
   "mimetype": "text/x-python",
   "name": "python",
   "nbconvert_exporter": "python",
   "pygments_lexer": "ipython3",
   "version": "3.10.12"
  }
 },
 "nbformat": 4,
 "nbformat_minor": 5
}
