{
 "cells": [
  {
   "cell_type": "markdown",
   "id": "7d5db0d4",
   "metadata": {},
   "source": [
    "## Exemplo de Features e Labels"
   ]
  },
  {
   "cell_type": "code",
   "execution_count": 1,
   "id": "7c03b579",
   "metadata": {},
   "outputs": [],
   "source": [
    "from sklearn.svm import LinearSVC, SVC\n",
    "from sklearn.model_selection import train_test_split\n",
    "import pandas as pd\n",
    "from sklearn.preprocessing import StandardScaler\n",
    "from sklearn.dummy import DummyClassifier\n",
    "from sklearn.metrics import accuracy_score\n",
    "import seaborn as sns\n",
    "import matplotlib.pyplot as plt\n",
    "import numpy as np\n",
    "from datetime import datetime as dt"
   ]
  },
  {
   "cell_type": "code",
   "execution_count": 2,
   "id": "4cf37ac8-be3d-4581-962d-34e0991a5a59",
   "metadata": {},
   "outputs": [
    {
     "name": "stdout",
     "output_type": "stream",
     "text": [
      "       preco  vendido  idade_do_modelo   km_por_ano\n",
      "0   30941.02        1               24  35085.22134\n",
      "1   40557.96        1               26  12622.05362\n",
      "2   89627.50        0               18  11440.79806\n",
      "3   95276.14        0                9  43167.32682\n",
      "4  117384.68        1               10  12770.11290\n"
     ]
    }
   ],
   "source": [
    "HEADER = ['milhas_por_ano', 'ano_do_modelo', 'preco', 'vendido']\n",
    "SEED = 20\n",
    "np.random.seed(SEED)\n",
    "\n",
    "uri = \"/home/dadaia/workspace/learning/3_AI/0_datasets/classification/dadaia_carros.csv\"\n",
    "df_data = pd.read_csv(uri, header=0, names=HEADER)\n",
    "\n",
    "\n",
    "df_data.vendido = df_data.vendido.map({\"yes\": 1, \"no\": 0})\n",
    "ano_atual = dt.today().year\n",
    "df_data[\"idade_do_modelo\"] = ano_atual - df_data.ano_do_modelo\n",
    "df_data[\"km_por_ano\"] = df_data.milhas_por_ano * 1.60934\n",
    "df_data = df_data.drop(columns=[\"milhas_por_ano\", \"ano_do_modelo\"], axis=1)\n",
    "print(df_data.head())\n",
    "\n",
    "df_X = df_data[[\"preco\", \"idade_do_modelo\", \"km_por_ano\"]]\n",
    "df_Y = df_data[\"vendido\"]"
   ]
  },
  {
   "cell_type": "markdown",
   "id": "49c0e1fd",
   "metadata": {},
   "source": [
    "## Modelo Linear SVC"
   ]
  },
  {
   "cell_type": "code",
   "execution_count": 3,
   "id": "1cb2b4dd",
   "metadata": {},
   "outputs": [
    {
     "name": "stdout",
     "output_type": "stream",
     "text": [
      "Training with 7500 elements and testing with 2500 elements\n",
      "Accuracy: 56.96%\n",
      "Dummy Accuracy: 58.00%\n"
     ]
    },
    {
     "name": "stderr",
     "output_type": "stream",
     "text": [
      "/home/dadaia/workspace/learning/3_AI/venv/lib/python3.10/site-packages/sklearn/svm/_base.py:1237: ConvergenceWarning: Liblinear failed to converge, increase the number of iterations.\n",
      "  warnings.warn(\n"
     ]
    }
   ],
   "source": [
    "train_x, test_x, train_y, test_y = train_test_split(df_X, df_Y, test_size=0.25, stratify=df_Y)\n",
    "\n",
    "modelo_linear_svc = LinearSVC(dual=True)\n",
    "modelo_linear_svc.fit(train_x, train_y)\n",
    "predictions = modelo_linear_svc.predict(test_x)\n",
    "accuracy = accuracy_score(test_y, predictions) * 100\n",
    "\n",
    "\n",
    "dummy_stratified = DummyClassifier()\n",
    "dummy_stratified.fit(train_x, train_y)\n",
    "dummy_accuracy = dummy_stratified.score(test_x, test_y) * 100\n",
    "\n",
    "print('Accuracy: %.2f%%' % accuracy)\n",
    "print('Dummy Accuracy: %.2f%%' % dummy_accuracy)"
   ]
  },
  {
   "cell_type": "markdown",
   "id": "a892ea1e",
   "metadata": {},
   "source": [
    "## Modelo SVC"
   ]
  },
  {
   "cell_type": "code",
   "execution_count": 4,
   "id": "b018525f",
   "metadata": {},
   "outputs": [
    {
     "name": "stdout",
     "output_type": "stream",
     "text": [
      "Accuracy: 76.60%\n"
     ]
    }
   ],
   "source": [
    "raw_train_x, raw_test_x, train_y, test_y = train_test_split(df_X, df_Y, test_size=0.25, stratify=df_Y)\n",
    "\n",
    "\n",
    "scaler = StandardScaler()\n",
    "scaler.fit(raw_train_x)\n",
    "train_x = scaler.transform(raw_train_x)\n",
    "test_x = scaler.transform(raw_test_x)\n",
    "\n",
    "modelo_svc = SVC()\n",
    "modelo_svc.fit(train_x, train_y)\n",
    "predictions = modelo_svc.predict(test_x)\n",
    "\n",
    "accuracy_svc = accuracy_score(test_y, predictions) * 100\n",
    "print('Accuracy: %.2f%%' % accuracy_svc)\n"
   ]
  }
 ],
 "metadata": {
  "kernelspec": {
   "display_name": "Python 3 (ipykernel)",
   "language": "python",
   "name": "python3"
  },
  "language_info": {
   "codemirror_mode": {
    "name": "ipython",
    "version": 3
   },
   "file_extension": ".py",
   "mimetype": "text/x-python",
   "name": "python",
   "nbconvert_exporter": "python",
   "pygments_lexer": "ipython3",
   "version": "3.10.12"
  }
 },
 "nbformat": 4,
 "nbformat_minor": 5
}
