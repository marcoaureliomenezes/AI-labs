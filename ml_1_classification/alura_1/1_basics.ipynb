{
 "cells": [
  {
   "cell_type": "markdown",
   "id": "7d5db0d4",
   "metadata": {},
   "source": [
    "## Exemplo de Features e Labels"
   ]
  },
  {
   "cell_type": "code",
   "execution_count": 14,
   "id": "7c03b579",
   "metadata": {},
   "outputs": [],
   "source": [
    "from sklearn.svm import LinearSVC\n",
    "from sklearn.model_selection import train_test_split\n",
    "import pandas as pd\n",
    "from sklearn.metrics import accuracy_score"
   ]
  },
  {
   "cell_type": "code",
   "execution_count": 15,
   "id": "4cf37ac8-be3d-4581-962d-34e0991a5a59",
   "metadata": {},
   "outputs": [
    {
     "data": {
      "text/plain": [
       "(99, 4)"
      ]
     },
     "execution_count": 15,
     "metadata": {},
     "output_type": "execute_result"
    }
   ],
   "source": [
    "df_data = pd.read_csv('../../../0_datasets/classification/tracking.csv')\n",
    "df_data.head()\n",
    "\n",
    "\n",
    "x = df_data[['home', 'how_it_works', 'contact']] # features\n",
    "y = df_data['bought'] # labels\n",
    "\n",
    "df_data.shape"
   ]
  },
  {
   "cell_type": "markdown",
   "id": "1cb2b4dd",
   "metadata": {},
   "source": [
    "### Separação de dados de treino e teste"
   ]
  },
  {
   "cell_type": "code",
   "execution_count": null,
   "id": "72b34993-5504-4cbb-8c9c-42083252e416",
   "metadata": {},
   "outputs": [],
   "source": []
  },
  {
   "cell_type": "code",
   "execution_count": 16,
   "id": "417bf951",
   "metadata": {},
   "outputs": [
    {
     "name": "stdout",
     "output_type": "stream",
     "text": [
      "Training with 74 elements and testing with 25 elements\n",
      "Accuracy: 96.00%\n"
     ]
    }
   ],
   "source": [
    "# train_x, train_y = x[:75], y[:75]\n",
    "# test_x, test_y = x[75:], y[75:]\n",
    "train_x, test_x, train_y, test_y = train_test_split(x, y, test_size=0.25, random_state=20, stratify=y)\n",
    "\n",
    "print('Training with %d elements and testing with %d elements' % (len(train_x), len(test_x)))\n",
    "\n",
    "modelo = LinearSVC(dual=True)\n",
    "modelo.fit(train_x, train_y)\n",
    "\n",
    "predictions = modelo.predict(test_x)\n",
    "accuracy = accuracy_score(test_y, predictions) * 100\n",
    "\n",
    "print('Accuracy: %.2f%%' % accuracy)"
   ]
  },
  {
   "cell_type": "code",
   "execution_count": null,
   "id": "74ec1827",
   "metadata": {},
   "outputs": [],
   "source": []
  },
  {
   "cell_type": "code",
   "execution_count": 17,
   "id": "dc068a35",
   "metadata": {},
   "outputs": [
    {
     "data": {
      "text/plain": [
       "(bought\n",
       " 0    49\n",
       " 1    25\n",
       " Name: count, dtype: int64,\n",
       " bought\n",
       " 0    17\n",
       " 1     8\n",
       " Name: count, dtype: int64)"
      ]
     },
     "execution_count": 17,
     "metadata": {},
     "output_type": "execute_result"
    }
   ],
   "source": [
    "train_y.value_counts(), test_y.value_counts()"
   ]
  },
  {
   "cell_type": "code",
   "execution_count": null,
   "id": "4245dd45",
   "metadata": {},
   "outputs": [],
   "source": []
  }
 ],
 "metadata": {
  "kernelspec": {
   "display_name": "Python 3 (ipykernel)",
   "language": "python",
   "name": "python3"
  },
  "language_info": {
   "codemirror_mode": {
    "name": "ipython",
    "version": 3
   },
   "file_extension": ".py",
   "mimetype": "text/x-python",
   "name": "python",
   "nbconvert_exporter": "python",
   "pygments_lexer": "ipython3",
   "version": "3.10.12"
  }
 },
 "nbformat": 4,
 "nbformat_minor": 5
}
