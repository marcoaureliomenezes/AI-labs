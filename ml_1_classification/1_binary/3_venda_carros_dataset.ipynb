{
 "cells": [
  {
   "cell_type": "markdown",
   "id": "7d5db0d4",
   "metadata": {},
   "source": [
    "## Exemplo de Features e Labels"
   ]
  },
  {
   "cell_type": "code",
   "execution_count": 7,
   "id": "7c03b579",
   "metadata": {},
   "outputs": [
    {
     "data": {
      "text/html": [
       "<div>\n",
       "<style scoped>\n",
       "    .dataframe tbody tr th:only-of-type {\n",
       "        vertical-align: middle;\n",
       "    }\n",
       "\n",
       "    .dataframe tbody tr th {\n",
       "        vertical-align: top;\n",
       "    }\n",
       "\n",
       "    .dataframe thead th {\n",
       "        text-align: right;\n",
       "    }\n",
       "</style>\n",
       "<table border=\"1\" class=\"dataframe\">\n",
       "  <thead>\n",
       "    <tr style=\"text-align: right;\">\n",
       "      <th></th>\n",
       "      <th>preco</th>\n",
       "      <th>vendido</th>\n",
       "      <th>idade_do_modelo</th>\n",
       "      <th>km_por_ano</th>\n",
       "      <th>modelo</th>\n",
       "    </tr>\n",
       "  </thead>\n",
       "  <tbody>\n",
       "    <tr>\n",
       "      <th>0</th>\n",
       "      <td>30941.02</td>\n",
       "      <td>0</td>\n",
       "      <td>24</td>\n",
       "      <td>35085.22134</td>\n",
       "      <td>31</td>\n",
       "    </tr>\n",
       "    <tr>\n",
       "      <th>1</th>\n",
       "      <td>40557.96</td>\n",
       "      <td>0</td>\n",
       "      <td>26</td>\n",
       "      <td>12622.05362</td>\n",
       "      <td>33</td>\n",
       "    </tr>\n",
       "    <tr>\n",
       "      <th>2</th>\n",
       "      <td>89627.50</td>\n",
       "      <td>1</td>\n",
       "      <td>18</td>\n",
       "      <td>11440.79806</td>\n",
       "      <td>22</td>\n",
       "    </tr>\n",
       "    <tr>\n",
       "      <th>3</th>\n",
       "      <td>95276.14</td>\n",
       "      <td>1</td>\n",
       "      <td>9</td>\n",
       "      <td>43167.32682</td>\n",
       "      <td>14</td>\n",
       "    </tr>\n",
       "    <tr>\n",
       "      <th>4</th>\n",
       "      <td>117384.68</td>\n",
       "      <td>0</td>\n",
       "      <td>10</td>\n",
       "      <td>12770.11290</td>\n",
       "      <td>16</td>\n",
       "    </tr>\n",
       "  </tbody>\n",
       "</table>\n",
       "</div>"
      ],
      "text/plain": [
       "       preco  vendido  idade_do_modelo   km_por_ano  modelo\n",
       "0   30941.02        0               24  35085.22134      31\n",
       "1   40557.96        0               26  12622.05362      33\n",
       "2   89627.50        1               18  11440.79806      22\n",
       "3   95276.14        1                9  43167.32682      14\n",
       "4  117384.68        0               10  12770.11290      16"
      ]
     },
     "execution_count": 7,
     "metadata": {},
     "output_type": "execute_result"
    }
   ],
   "source": [
    "from datetime import datetime as dt\n",
    "import numpy as np\n",
    "import pandas as pd\n",
    "import seaborn as sns\n",
    "import matplotlib.pyplot as plt\n",
    "import graphviz\n",
    "from sqlalchemy import create_engine\n",
    "\n",
    "pg_host = 'localhost'\n",
    "pg_port = 15432\n",
    "pg_user = 'postgres'\n",
    "pg_pass = 'postgres'\n",
    "SEED = 20\n",
    "np.random.seed(SEED)\n",
    "\n",
    "engine = create_engine(f'postgresql://{pg_user}:{pg_pass}@{pg_host}:{pg_port}/postgres')\n",
    "\n",
    "df_data = pd.read_sql_table('vendas_carros', engine)\n",
    "df_data.head()\n",
    "# Explore Dataframe\n"
   ]
  },
  {
   "cell_type": "markdown",
   "id": "49c0e1fd",
   "metadata": {},
   "source": [
    "## Modelo Linear SVC"
   ]
  },
  {
   "cell_type": "code",
   "execution_count": 3,
   "id": "1cb2b4dd",
   "metadata": {},
   "outputs": [
    {
     "name": "stdout",
     "output_type": "stream",
     "text": [
      "Training with 7500 elements and testing with 2500 elements\n",
      "Accuracy: 56.96%\n",
      "Dummy Accuracy: 58.00%\n"
     ]
    },
    {
     "name": "stderr",
     "output_type": "stream",
     "text": [
      "/home/dadaia/workspace/learning/3_AI/venv/lib/python3.10/site-packages/sklearn/svm/_base.py:1237: ConvergenceWarning: Liblinear failed to converge, increase the number of iterations.\n",
      "  warnings.warn(\n"
     ]
    }
   ],
   "source": [
    "from sklearn.svm import LinearSVC, SVC\n",
    "from sklearn.tree import DecisionTreeClassifier, export_graphviz\n",
    "from sklearn.preprocessing import StandardScaler\n",
    "from sklearn.dummy import DummyClassifier\n",
    "from sklearn.model_selection import train_test_split\n",
    "from sklearn.metrics import accuracy_score\n",
    "\n",
    "df_X = df_data[[\"preco\", \"idade_do_modelo\", \"km_por_ano\"]]\n",
    "df_Y = df_data[\"vendido\"]\n",
    "\n",
    "train_x, test_x, train_y, test_y = train_test_split(df_X, df_Y, test_size=0.25, stratify=df_Y)\n",
    "\n",
    "dummy_stratified = DummyClassifier()\n",
    "dummy_stratified.fit(train_x, train_y)\n",
    "dummy_accuracy = dummy_stratified.score(test_x, test_y) * 100\n",
    "print('Accuracy Dummy: %.2f%%' % dummy_accuracy)\n",
    "\n",
    "modelo_linear_svc = LinearSVC(dual=True)\n",
    "modelo_linear_svc.fit(train_x, train_y)\n",
    "predictions = modelo_linear_svc.predict(test_x)\n",
    "accuracy = accuracy_score(test_y, predictions) * 100\n",
    "print('Accuracy Linear SVC: %.2f%%' % dummy_accuracy)\n",
    "\n",
    "scaler = StandardScaler()\n",
    "scaler.fit(train_x)\n",
    "train_x_scaled = scaler.transform(train_x)\n",
    "test_x_scaled = scaler.transform(test_x)\n",
    "modelo_svc = SVC()\n",
    "modelo_svc.fit(train_x, train_y)\n",
    "predictions = modelo_svc.predict(test_x)\n",
    "accuracy_svc = accuracy_score(test_y, predictions) * 100\n",
    "print('Accuracy SVC: %.2f%%' % accuracy_svc)\n",
    "\n",
    "model_dec_tree = DecisionTreeClassifier(max_depth=2)\n",
    "model_dec_tree.fit(train_x, train_y)\n",
    "predictions = model_dec_tree.predict(test_x)\n",
    "accuracy_dec_tree = accuracy_score(test_y, predictions) * 100\n",
    "print('Accuracy Decision Tree: %.2f%%' % accuracy_dec_tree)"
   ]
  },
  {
   "cell_type": "markdown",
   "id": "a892ea1e",
   "metadata": {},
   "source": [
    "## Analisando Arvore de Decisão"
   ]
  },
  {
   "cell_type": "code",
   "execution_count": 4,
   "id": "b018525f",
   "metadata": {},
   "outputs": [
    {
     "name": "stdout",
     "output_type": "stream",
     "text": [
      "Accuracy: 76.60%\n"
     ]
    }
   ],
   "source": [
    "features = df_X.columns\n",
    "dot_data = export_graphviz(modelo_svc, out_file=None, feature_names=features, filled=True, rounded=True, class_names=[\"não\", \"sim\"])\n",
    "grafico = graphviz.Source(dot_data)\n",
    "\n",
    "grafico"
   ]
  }
 ],
 "metadata": {
  "kernelspec": {
   "display_name": "Python 3 (ipykernel)",
   "language": "python",
   "name": "python3"
  },
  "language_info": {
   "codemirror_mode": {
    "name": "ipython",
    "version": 3
   },
   "file_extension": ".py",
   "mimetype": "text/x-python",
   "name": "python",
   "nbconvert_exporter": "python",
   "pygments_lexer": "ipython3",
   "version": "3.10.12"
  }
 },
 "nbformat": 4,
 "nbformat_minor": 5
}
