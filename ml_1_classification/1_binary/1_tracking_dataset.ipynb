{
 "cells": [
  {
   "cell_type": "markdown",
   "id": "7d5db0d4",
   "metadata": {},
   "source": [
    "## Exemplo de Features e Labels"
   ]
  },
  {
   "cell_type": "code",
   "execution_count": 2,
   "id": "7c03b579",
   "metadata": {},
   "outputs": [],
   "source": [
    "import pandas as pd\n",
    "from sklearn.preprocessing import LabelEncoder\n",
    "from sklearn.model_selection import StratifiedShuffleSplit\n"
   ]
  },
  {
   "cell_type": "code",
   "execution_count": 3,
   "id": "4cf37ac8-be3d-4581-962d-34e0991a5a59",
   "metadata": {},
   "outputs": [
    {
     "name": "stdout",
     "output_type": "stream",
     "text": [
      "<class 'pandas.core.frame.DataFrame'>\n",
      "RangeIndex: 99 entries, 0 to 98\n",
      "Data columns (total 4 columns):\n",
      " #   Column        Non-Null Count  Dtype\n",
      "---  ------        --------------  -----\n",
      " 0   home          99 non-null     int64\n",
      " 1   how_it_works  99 non-null     int64\n",
      " 2   contact       99 non-null     int64\n",
      " 3   bought        99 non-null     int64\n",
      "dtypes: int64(4)\n",
      "memory usage: 3.2 KB\n"
     ]
    },
    {
     "data": {
      "text/plain": [
       "1    3\n",
       "Name: count, dtype: int64"
      ]
     },
     "execution_count": 3,
     "metadata": {},
     "output_type": "execute_result"
    }
   ],
   "source": [
    "PATH = '../../datasets/classification/tracking.csv'\n",
    "\n",
    "df_data = pd.read_csv(PATH)\n",
    "\n",
    "# Explore Dataset\n",
    "df_data.head()\n",
    "df_data.shape\n",
    "df_data.info()\n",
    "df_data.dtypes.value_counts()\n",
    "df_data.iloc[:, :-1].min().value_counts() # Ver Scala Mínima de colunas numéricas\n",
    "df_data.iloc[:, :-1].max().value_counts() # Ver Scala Máxima de colunas numéricas\n"
   ]
  },
  {
   "cell_type": "code",
   "execution_count": 4,
   "id": "417bf951",
   "metadata": {},
   "outputs": [
    {
     "ename": "SyntaxError",
     "evalue": "invalid syntax. Perhaps you forgot a comma? (2567776974.py, line 11)",
     "output_type": "error",
     "traceback": [
      "\u001b[0;36m  Cell \u001b[0;32mIn[4], line 11\u001b[0;36m\u001b[0m\n\u001b[0;31m    train_x, test_x, train_y, test_y = train_test_split(df_X, df_Y test_size=0.25, random_state=20, stratify=df_Y)\u001b[0m\n\u001b[0m                                                              ^\u001b[0m\n\u001b[0;31mSyntaxError\u001b[0m\u001b[0;31m:\u001b[0m invalid syntax. Perhaps you forgot a comma?\n"
     ]
    }
   ],
   "source": [
    "from sklearn.svm import LinearSVC\n",
    "from sklearn.model_selection import train_test_split\n",
    "from sklearn.metrics import accuracy_score\n",
    "\n",
    "FEATURES = ['home', 'how_it_works', 'contact']\n",
    "LABEL = 'bought'\n",
    "\n",
    "df_X = df_data[FEATURES]\n",
    "df_Y = df_data[LABEL]\n",
    "\n",
    "train_x, test_x, train_y, test_y = train_test_split(df_X, df_Y test_size=0.25, random_state=20, stratify=df_Y)\n",
    "modelo = LinearSVC(dual=True)\n",
    "modelo.fit(train_x, train_y)\n",
    "predictions = modelo.predict(test_x)\n",
    "accuracy = accuracy_score(test_y, predictions) * 100\n",
    "print('Accuracy: %.2f%%' % accuracy)"
   ]
  },
  {
   "cell_type": "code",
   "execution_count": null,
   "id": "00d4ce7c",
   "metadata": {},
   "outputs": [],
   "source": []
  },
  {
   "cell_type": "code",
   "execution_count": null,
   "id": "60aa19c5",
   "metadata": {},
   "outputs": [],
   "source": []
  },
  {
   "cell_type": "code",
   "execution_count": null,
   "id": "5426e027",
   "metadata": {},
   "outputs": [],
   "source": []
  }
 ],
 "metadata": {
  "kernelspec": {
   "display_name": "Python 3 (ipykernel)",
   "language": "python",
   "name": "python3"
  },
  "language_info": {
   "codemirror_mode": {
    "name": "ipython",
    "version": 3
   },
   "file_extension": ".py",
   "mimetype": "text/x-python",
   "name": "python",
   "nbconvert_exporter": "python",
   "pygments_lexer": "ipython3",
   "version": "3.10.12"
  }
 },
 "nbformat": 4,
 "nbformat_minor": 5
}
