{
 "cells": [
  {
   "cell_type": "code",
   "execution_count": 16,
   "metadata": {},
   "outputs": [
    {
     "data": {
      "text/html": [
       "<div>\n",
       "<style scoped>\n",
       "    .dataframe tbody tr th:only-of-type {\n",
       "        vertical-align: middle;\n",
       "    }\n",
       "\n",
       "    .dataframe tbody tr th {\n",
       "        vertical-align: top;\n",
       "    }\n",
       "\n",
       "    .dataframe thead th {\n",
       "        text-align: right;\n",
       "    }\n",
       "</style>\n",
       "<table border=\"1\" class=\"dataframe\">\n",
       "  <thead>\n",
       "    <tr style=\"text-align: right;\">\n",
       "      <th></th>\n",
       "      <th>preco</th>\n",
       "      <th>vendido</th>\n",
       "      <th>idade_do_modelo</th>\n",
       "      <th>km_por_ano</th>\n",
       "      <th>modelo</th>\n",
       "    </tr>\n",
       "  </thead>\n",
       "  <tbody>\n",
       "    <tr>\n",
       "      <th>0</th>\n",
       "      <td>30941.02</td>\n",
       "      <td>0</td>\n",
       "      <td>24</td>\n",
       "      <td>35085.22134</td>\n",
       "      <td>31</td>\n",
       "    </tr>\n",
       "    <tr>\n",
       "      <th>1</th>\n",
       "      <td>40557.96</td>\n",
       "      <td>0</td>\n",
       "      <td>26</td>\n",
       "      <td>12622.05362</td>\n",
       "      <td>33</td>\n",
       "    </tr>\n",
       "    <tr>\n",
       "      <th>2</th>\n",
       "      <td>89627.50</td>\n",
       "      <td>1</td>\n",
       "      <td>18</td>\n",
       "      <td>11440.79806</td>\n",
       "      <td>22</td>\n",
       "    </tr>\n",
       "    <tr>\n",
       "      <th>3</th>\n",
       "      <td>95276.14</td>\n",
       "      <td>1</td>\n",
       "      <td>9</td>\n",
       "      <td>43167.32682</td>\n",
       "      <td>14</td>\n",
       "    </tr>\n",
       "    <tr>\n",
       "      <th>4</th>\n",
       "      <td>117384.68</td>\n",
       "      <td>0</td>\n",
       "      <td>10</td>\n",
       "      <td>12770.11290</td>\n",
       "      <td>16</td>\n",
       "    </tr>\n",
       "  </tbody>\n",
       "</table>\n",
       "</div>"
      ],
      "text/plain": [
       "       preco  vendido  idade_do_modelo   km_por_ano  modelo\n",
       "0   30941.02        0               24  35085.22134      31\n",
       "1   40557.96        0               26  12622.05362      33\n",
       "2   89627.50        1               18  11440.79806      22\n",
       "3   95276.14        1                9  43167.32682      14\n",
       "4  117384.68        0               10  12770.11290      16"
      ]
     },
     "execution_count": 16,
     "metadata": {},
     "output_type": "execute_result"
    }
   ],
   "source": [
    "import pandas as pd\n",
    "import numpy as np\n",
    "from sqlalchemy import create_engine\n",
    "import warnings\n",
    "\n",
    "warnings.filterwarnings(\"ignore\")\n",
    "\n",
    "\n",
    "pg_host = 'localhost'\n",
    "pg_port = 15432\n",
    "pg_user = 'postgres'\n",
    "pg_pass = 'postgres'\n",
    "SEED = 20\n",
    "np.random.seed(SEED)\n",
    "\n",
    "engine = create_engine(f'postgresql://{pg_user}:{pg_pass}@{pg_host}:{pg_port}/postgres')\n",
    "\n",
    "df_data = pd.read_sql_table('vendas_carros', engine)\n",
    "df_data.head()"
   ]
  },
  {
   "cell_type": "markdown",
   "metadata": {},
   "source": [
    "### Baseline Dummy Classifier"
   ]
  },
  {
   "cell_type": "code",
   "execution_count": 17,
   "metadata": {},
   "outputs": [
    {
     "name": "stdout",
     "output_type": "stream",
     "text": [
      "Dummy Classifier:  Accuracy: 0.58 | std: 0.0\n",
      "Decision Tree:  Accuracy: 0.76 | std: 0.01\n",
      "Decision Tree KFold:  Accuracy: 0.76 | std: 0.02\n"
     ]
    }
   ],
   "source": [
    "from sklearn.svm import LinearSVC, SVC\n",
    "from sklearn.tree import DecisionTreeClassifier, export_graphviz\n",
    "from sklearn.preprocessing import StandardScaler\n",
    "from sklearn.dummy import DummyClassifier\n",
    "from sklearn.model_selection import GroupKFold, cross_validate, train_test_split\n",
    "from sklearn.metrics import accuracy_score\n",
    "from sklearn.model_selection import GridSearchCV\n",
    "from sklearn.pipeline import Pipeline\n",
    "from sklearn.model_selection import StratifiedKFold\n",
    "from sklearn.neighbors import KNeighborsClassifier\n",
    "\n",
    "def print_metrics (x):\n",
    "    return f\"Accuracy: {round(x['test_score'].mean(), 2)} | std: {round(x['test_score'].std(), 2)}\"\n",
    "\n",
    "df_X = df_data[[\"preco\", \"idade_do_modelo\", \"km_por_ano\"]]\n",
    "df_Y = df_data[\"vendido\"]\n",
    "\n",
    "\n",
    "train_x, test_x, train_y, test_y = train_test_split(df_X, df_Y, test_size=0.25, stratify=df_Y)\n",
    "\n",
    "\n",
    "dummy = DummyClassifier()\n",
    "result = cross_validate(dummy, df_X, df_Y, cv=10, return_train_score=False)\n",
    "print(\"Dummy Classifier: \", print_metrics(result))\n",
    "\n",
    "model_dt = DecisionTreeClassifier(max_depth=2)\n",
    "result_model_dt = cross_validate(model_dt, df_X, df_Y, cv=10, return_train_score=False)\n",
    "print(\"Decision Tree: \", print_metrics(result_model_dt))\n",
    "\n",
    "cv = GroupKFold(n_splits=10)\n",
    "model_dt_kfold = DecisionTreeClassifier(max_depth=2)\n",
    "result_modelo_dec_tree_kfold = cross_validate(model_dt_kfold, df_X, df_Y, cv=cv, groups=df_data.modelo, return_train_score=False)\n",
    "print(\"Decision Tree KFold: \", print_metrics(result_modelo_dec_tree_kfold))"
   ]
  },
  {
   "cell_type": "markdown",
   "metadata": {},
   "source": [
    "## Refinando Modelos\n",
    "### 1 - Decision Tree Classifier\n",
    "\n",
    "Parâmetros de interesse:\n",
    "- `criterion`: função de avaliação da qualidade da divisão.\n",
    "- `splitter`: estratégia utilizada para dividir o nó de decisão.\n",
    "- `max_depth`: profundidade máxima da árvore.\n",
    "- `min_samples_split`: número mínimo de amostras para dividir um nó.\n",
    "- `min_samples_leaf`: número mínimo de amostras para ser um nó folha.\n"
   ]
  },
  {
   "cell_type": "code",
   "execution_count": 18,
   "metadata": {},
   "outputs": [
    {
     "name": "stdout",
     "output_type": "stream",
     "text": [
      "Decision Tree:  Accuracy: 0.79 | std: 0.01\n"
     ]
    }
   ],
   "source": [
    "parametros = {\n",
    "    'max_depth': [3, 5],\n",
    "    'min_samples_leaf': [32, 64, 128],\n",
    "    'min_samples_split': [32, 64, 128],\n",
    "    'criterion': ['gini', 'entropy']\n",
    "}\n",
    "grid_search = GridSearchCV(DecisionTreeClassifier(), parametros, cv=GroupKFold(n_splits=10), n_jobs=-1)\n",
    "grid_search.fit(df_X, df_Y, groups=df_data.modelo)\n",
    "resultados = pd.DataFrame(grid_search.cv_results_)\n",
    "# resultados.sort_values(\"mean_test_score\", ascending=False).head()\n",
    "better_parms = grid_search.best_params_\n",
    "model_dt = DecisionTreeClassifier(**better_parms)\n",
    "result_model_dt = cross_validate(model_dt, df_X, df_Y, cv=10, return_train_score=False)\n",
    "print(\"Decision Tree: \", print_metrics(result_model_dt))"
   ]
  },
  {
   "cell_type": "markdown",
   "metadata": {},
   "source": [
    "### 2 - Classificador Linear SVC (Support Vector Classifier)\n",
    "\n",
    "Parâmetros de interesse:\n",
    "- `C`: parâmetro de regularização.\n",
    "- `loss`: função de perda.\n",
    "- `penalty`: norma de regularização.\n",
    "- `dual`: formulação primal ou dual.\n",
    "- `tol`: critério de parada."
   ]
  },
  {
   "cell_type": "code",
   "execution_count": 19,
   "metadata": {},
   "outputs": [
    {
     "name": "stdout",
     "output_type": "stream",
     "text": [
      "Linear SVC:  Accuracy: 0.71 | std: 0.01\n"
     ]
    }
   ],
   "source": [
    "hyper_parms_linear_svc = {\n",
    "    'penalty': ['l1', 'l2'],\n",
    "    'dual': [False], \n",
    "    'loss': ['squared_hinge'],\n",
    "    'C': [0.1, 0.5, 1.0, 2.0, 5.0, 10.0, 50.0, 100, 1000.0],\n",
    "    'tol': [0.0001, 0.001, 0.01, 0.1],\n",
    "    'max_iter': [1000]\n",
    "}\n",
    "grid_search = GridSearchCV(LinearSVC(), hyper_parms_linear_svc, cv=GroupKFold(n_splits=10), n_jobs=-1)\n",
    "grid_search.fit(df_X, df_Y, groups=df_data.modelo)\n",
    "resultados = pd.DataFrame(grid_search.cv_results_)\n",
    "# resultados.sort_values(\"mean_test_score\", ascending=False).head()\n",
    "better_parms = grid_search.best_params_\n",
    "model_linear_svc = LinearSVC(**better_parms)\n",
    "result_model_linear_svc = cross_validate(model_linear_svc, df_X, df_Y, cv=10, return_train_score=False)\n",
    "print(\"Linear SVC: \", print_metrics(result_model_linear_svc))"
   ]
  },
  {
   "cell_type": "markdown",
   "metadata": {},
   "source": [
    "## 3 - Classificador SVC (Support Vector Classifier)\n",
    "\n",
    "- O SVC é um classificador binário apropriado para classificação de dados não lineares. \n",
    "- Ele pode ser visto como uma generalização do SVM para o caso não linear. \n",
    "- O SVC é um classificador que utiliza uma função de kernel para transformar o espaço de entrada em um espaço de maior dimensionalidade, onde os dados podem ser separados por um hiperplano."
   ]
  },
  {
   "cell_type": "code",
   "execution_count": 20,
   "metadata": {},
   "outputs": [
    {
     "name": "stdout",
     "output_type": "stream",
     "text": [
      "SVC:  Accuracy: 0.77 | std: 0.01\n"
     ]
    }
   ],
   "source": [
    "\n",
    "\n",
    "hyper_parms_svc = [\n",
    "    {\n",
    "        'svc__kernel': ['linear', 'rbf'],\n",
    "    },\n",
    "]\n",
    "\n",
    "pipe_knn = Pipeline([('scaler', StandardScaler()), ('svc', SVC())])\n",
    "\n",
    "grid_search = GridSearchCV(\n",
    "                            estimator=pipe_knn, \n",
    "                            param_grid=hyper_parms_svc, \n",
    "                            cv=GroupKFold(n_splits=10), \n",
    "                            n_jobs=-1\n",
    ")\n",
    "\n",
    "grid_search.fit(df_X, df_Y, groups=df_data.modelo)\n",
    "resultados = pd.DataFrame(grid_search.cv_results_)\n",
    "better_parms = {k.replace('svc__', ''): v for k, v in grid_search.best_params_.items()}\n",
    "model_svc = SVC(**better_parms)\n",
    "result_model_svc = cross_validate(model_svc, df_X, df_Y, cv=10, return_train_score=False)\n",
    "print(\"SVC: \", print_metrics(result_model_svc))\n"
   ]
  },
  {
   "cell_type": "markdown",
   "metadata": {},
   "source": [
    "### Classificador KNN (K-Nearest Neighbors)"
   ]
  },
  {
   "cell_type": "code",
   "execution_count": 22,
   "metadata": {},
   "outputs": [
    {
     "name": "stdout",
     "output_type": "stream",
     "text": [
      "Fitting 5 folds for each of 20 candidates, totalling 100 fits\n",
      "KNN:  Accuracy: 0.76 | std: 0.01\n"
     ]
    }
   ],
   "source": [
    "\n",
    "parms_grid_knn = {\n",
    "    'knn__n_neighbors': np.linspace(3, 15, 5, dtype=int),\n",
    "    'knn__weights': ['uniform', 'distance'],\n",
    "    'knn__metric': ['euclidean', 'manhattan']\n",
    "    }\n",
    "\n",
    "cv = StratifiedKFold(n_splits=5, shuffle=True, random_state=42)\n",
    "pipe_knn = Pipeline([('scaler', StandardScaler()), ('knn', KNeighborsClassifier())])\n",
    "\n",
    "knn_grid_search = GridSearchCV(\n",
    "                                        estimator=pipe_knn, \n",
    "                                        param_grid=parms_grid_knn, \n",
    "                                        cv=cv,\n",
    "                                        scoring='recall',\n",
    "                                        verbose=1,\n",
    "                                        n_jobs=-1\n",
    ")\n",
    "\n",
    "knn_grid_search.fit(df_X, df_Y)\n",
    "resultados = pd.DataFrame(knn_grid_search.cv_results_)\n",
    "# resultados.sort_values(\"mean_test_score\", ascending=False).head()\n",
    "better_parms =   {k.replace('knn__', ''): v for k, v in knn_grid_search.best_params_.items()}\n",
    "model_knn = KNeighborsClassifier(**better_parms)\n",
    "result_model_knn = cross_validate(model_knn, df_X, df_Y, cv=10, return_train_score=False)\n",
    "print(\"KNN: \", print_metrics(result_model_knn))\n"
   ]
  },
  {
   "cell_type": "markdown",
   "metadata": {},
   "source": [
    "## Classificador de Regressão Logística"
   ]
  },
  {
   "cell_type": "code",
   "execution_count": 25,
   "metadata": {},
   "outputs": [
    {
     "name": "stdout",
     "output_type": "stream",
     "text": [
      "Fitting 5 folds for each of 100 candidates, totalling 500 fits\n"
     ]
    },
    {
     "name": "stdout",
     "output_type": "stream",
     "text": [
      "Logistic Regression:  Accuracy: 0.65 | std: 0.01\n"
     ]
    }
   ],
   "source": [
    "from sklearn.linear_model import LogisticRegression\n",
    "\n",
    "\n",
    "max_iter =np.linspace(100, 300, 5, dtype=int)\n",
    "c = [0.001, 0.01, 0.1, 1, 10]\n",
    "\n",
    "parms_grid_reg_log = [\n",
    "    {\n",
    "    'logisticregression__solver': ['newton-cg', 'lbfgs'],\n",
    "    'logisticregression__penalty': ['l2'],\n",
    "    'logisticregression__max_iter': max_iter,\n",
    "    'logisticregression__C': c \n",
    "    },\n",
    "    {\n",
    "    'logisticregression__solver': ['liblinear'],\n",
    "    'logisticregression__penalty': ['l1', 'l2'],\n",
    "    'logisticregression__max_iter': max_iter,\n",
    "    'logisticregression__C': c \n",
    "    }\n",
    "]\n",
    "\n",
    "cv = StratifiedKFold(n_splits=5, shuffle=True, random_state=42)\n",
    "pipe_logistic_regression = Pipeline([('scaler', StandardScaler()), ('logisticregression', LogisticRegression())])\n",
    "log_reg_grid_search = GridSearchCV(\n",
    "                                        estimator=pipe_logistic_regression, \n",
    "                                        param_grid=parms_grid_reg_log, \n",
    "                                        cv=cv,\n",
    "                                        scoring='recall',\n",
    "                                        verbose=1,\n",
    "                                        n_jobs=-1\n",
    ")\n",
    "\n",
    "log_reg_grid_search.fit(df_X, df_Y)\n",
    "# print(log_reg_grid_search.best_params_)\n",
    "df_reg_log_results =  pd.DataFrame(log_reg_grid_search.cv_results_)\n",
    "#df_reg_log_results.loc[[log_reg_grid_search.best_index_]]\n",
    "better_parms =   {k.replace('logisticregression__', ''): v for k, v in log_reg_grid_search.best_params_.items()}\n",
    "model_knn = LogisticRegression(**better_parms)\n",
    "result_model_knn = cross_validate(model_knn, df_X, df_Y, cv=10, return_train_score=False)\n",
    "print(\"Logistic Regression: \", print_metrics(result_model_knn))"
   ]
  },
  {
   "cell_type": "code",
   "execution_count": null,
   "metadata": {},
   "outputs": [],
   "source": []
  }
 ],
 "metadata": {
  "kernelspec": {
   "display_name": "Python 3 (ipykernel)",
   "language": "python",
   "name": "python3"
  },
  "language_info": {
   "codemirror_mode": {
    "name": "ipython",
    "version": 3
   },
   "file_extension": ".py",
   "mimetype": "text/x-python",
   "name": "python",
   "nbconvert_exporter": "python",
   "pygments_lexer": "ipython3",
   "version": "3.10.12"
  }
 },
 "nbformat": 4,
 "nbformat_minor": 2
}
