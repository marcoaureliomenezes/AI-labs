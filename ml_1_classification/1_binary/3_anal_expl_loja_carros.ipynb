{
 "cells": [
  {
   "cell_type": "markdown",
   "id": "7d5db0d4",
   "metadata": {},
   "source": [
    "## Exemplo de Features e Labels"
   ]
  },
  {
   "cell_type": "code",
   "execution_count": 2,
   "id": "7c03b579",
   "metadata": {},
   "outputs": [
    {
     "data": {
      "text/html": [
       "<div>\n",
       "<style scoped>\n",
       "    .dataframe tbody tr th:only-of-type {\n",
       "        vertical-align: middle;\n",
       "    }\n",
       "\n",
       "    .dataframe tbody tr th {\n",
       "        vertical-align: top;\n",
       "    }\n",
       "\n",
       "    .dataframe thead th {\n",
       "        text-align: right;\n",
       "    }\n",
       "</style>\n",
       "<table border=\"1\" class=\"dataframe\">\n",
       "  <thead>\n",
       "    <tr style=\"text-align: right;\">\n",
       "      <th></th>\n",
       "      <th>preco</th>\n",
       "      <th>vendido</th>\n",
       "      <th>idade_do_modelo</th>\n",
       "      <th>km_por_ano</th>\n",
       "      <th>modelo</th>\n",
       "    </tr>\n",
       "  </thead>\n",
       "  <tbody>\n",
       "    <tr>\n",
       "      <th>0</th>\n",
       "      <td>30941.02</td>\n",
       "      <td>0</td>\n",
       "      <td>24</td>\n",
       "      <td>35085.22134</td>\n",
       "      <td>31</td>\n",
       "    </tr>\n",
       "    <tr>\n",
       "      <th>1</th>\n",
       "      <td>40557.96</td>\n",
       "      <td>0</td>\n",
       "      <td>26</td>\n",
       "      <td>12622.05362</td>\n",
       "      <td>33</td>\n",
       "    </tr>\n",
       "    <tr>\n",
       "      <th>2</th>\n",
       "      <td>89627.50</td>\n",
       "      <td>1</td>\n",
       "      <td>18</td>\n",
       "      <td>11440.79806</td>\n",
       "      <td>22</td>\n",
       "    </tr>\n",
       "    <tr>\n",
       "      <th>3</th>\n",
       "      <td>95276.14</td>\n",
       "      <td>1</td>\n",
       "      <td>9</td>\n",
       "      <td>43167.32682</td>\n",
       "      <td>14</td>\n",
       "    </tr>\n",
       "    <tr>\n",
       "      <th>4</th>\n",
       "      <td>117384.68</td>\n",
       "      <td>0</td>\n",
       "      <td>10</td>\n",
       "      <td>12770.11290</td>\n",
       "      <td>16</td>\n",
       "    </tr>\n",
       "  </tbody>\n",
       "</table>\n",
       "</div>"
      ],
      "text/plain": [
       "       preco  vendido  idade_do_modelo   km_por_ano  modelo\n",
       "0   30941.02        0               24  35085.22134      31\n",
       "1   40557.96        0               26  12622.05362      33\n",
       "2   89627.50        1               18  11440.79806      22\n",
       "3   95276.14        1                9  43167.32682      14\n",
       "4  117384.68        0               10  12770.11290      16"
      ]
     },
     "execution_count": 2,
     "metadata": {},
     "output_type": "execute_result"
    }
   ],
   "source": [
    "import pandas as pd\n",
    "import seaborn as sns\n",
    "import matplotlib.pyplot as plt\n",
    "import numpy as np\n",
    "\n",
    "# supress warnings\n",
    "import warnings\n",
    "\n",
    "from sqlalchemy import create_engine\n",
    "warnings.filterwarnings(\"ignore\")\n",
    "\n",
    "\n",
    "pg_host = 'localhost'\n",
    "pg_port = 15432\n",
    "pg_user = 'postgres'\n",
    "pg_pass = 'postgres'\n",
    "SEED = 20\n",
    "np.random.seed(SEED)\n",
    "\n",
    "engine = create_engine(f'postgresql://{pg_user}:{pg_pass}@{pg_host}:{pg_port}/postgres')\n",
    "\n",
    "df_data = pd.read_sql_table('vendas_carros', engine)\n",
    "df_data.head()"
   ]
  },
  {
   "cell_type": "markdown",
   "id": "c9597ef1",
   "metadata": {},
   "source": [
    "# Análises exploratórias possíveis.\n",
    "\n",
    "- Distribuição entre anos.\n",
    "- Distribuição entr modelos. Gráfico de barras."
   ]
  }
 ],
 "metadata": {
  "kernelspec": {
   "display_name": "Python 3 (ipykernel)",
   "language": "python",
   "name": "python3"
  },
  "language_info": {
   "codemirror_mode": {
    "name": "ipython",
    "version": 3
   },
   "file_extension": ".py",
   "mimetype": "text/x-python",
   "name": "python",
   "nbconvert_exporter": "python",
   "pygments_lexer": "ipython3",
   "version": "3.10.12"
  }
 },
 "nbformat": 4,
 "nbformat_minor": 5
}
